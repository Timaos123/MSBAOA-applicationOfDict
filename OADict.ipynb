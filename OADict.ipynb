{
 "cells": [
  {
   "cell_type": "code",
   "execution_count": null,
   "metadata": {},
   "outputs": [],
   "source": [
    "emmmm感觉今天更不出文件啦，内容有点多，就先放dict的应用啦~毕竟如果后面真的要手码蒙特卡洛树的话也好有个参考\n",
    "文件的东西有时间继续更！谢谢资瓷"
   ]
  },
  {
   "cell_type": "markdown",
   "metadata": {},
   "source": [
    "## 1.dict应用一——键值反转（特殊情况）"
   ]
  },
  {
   "cell_type": "markdown",
   "metadata": {},
   "source": [
    "风里雨里，王者峡谷，呸，公众号等你，回顾上期最后的话题，键值反转的特殊情况（其实我觉得更像是一般情况），具体样例如下："
   ]
  },
  {
   "cell_type": "code",
   "execution_count": 2,
   "metadata": {},
   "outputs": [],
   "source": [
    "heroTypeDict={\"姜子牙\":[\"法师\",\"辅助\"],\\\n",
    "              \"哪吒\":[\"坦克\",\"战士\"],\\\n",
    "              \"露娜\":[\"法师\",\"战士\"],\\\n",
    "              \"墨子\":[\"法师\",\"战士\"],\\\n",
    "              \"项羽\":[\"辅助\",\"坦克\"]}#不好意思上期打错了，应该是大括号"
   ]
  },
  {
   "cell_type": "markdown",
   "metadata": {},
   "source": [
    "代码大致原理如下："
   ]
  },
  {
   "cell_type": "markdown",
   "metadata": {},
   "source": [
    "![键值反转.JPG](https://i.loli.net/2019/09/14/K2n6gkGeUbEycMs.jpg)"
   ]
  },
  {
   "cell_type": "markdown",
   "metadata": {},
   "source": [
    "代码如下："
   ]
  },
  {
   "cell_type": "code",
   "execution_count": 12,
   "metadata": {},
   "outputs": [
    {
     "name": "stdout",
     "output_type": "stream",
     "text": [
      "{\n",
      "    \"坦克\": [\n",
      "        \"哪吒\",\n",
      "        \"项羽\"\n",
      "    ],\n",
      "    \"法师\": [\n",
      "        \"姜子牙\",\n",
      "        \"露娜\",\n",
      "        \"墨子\"\n",
      "    ],\n",
      "    \"战士\": [\n",
      "        \"哪吒\",\n",
      "        \"露娜\",\n",
      "        \"墨子\"\n",
      "    ],\n",
      "    \"辅助\": [\n",
      "        \"姜子牙\",\n",
      "        \"项羽\"\n",
      "    ]\n",
      "}\n"
     ]
    }
   ],
   "source": [
    "import json#只是为了好看\n",
    "\n",
    "typeHeroDict={}\n",
    "newKeyList=[]\n",
    "\n",
    "#extract the new keys and values of typeHeroDict\n",
    "newValueTuple=tuple(heroTypeDict.keys())\n",
    "for newValueItem in newValueTuple:\n",
    "    for newKeyItem in heroTypeDict.values():\n",
    "        newKeyList+=newKeyItem\n",
    "newKeySet=set(newKeyList)\n",
    "\n",
    "#add heros in their corresponding types\n",
    "for newKeyItem in newKeySet:\n",
    "    for newValueItem in newValueTuple:\n",
    "        if newKeyItem in heroTypeDict[newValueItem]:\n",
    "            typeHeroDict[newKeyItem]=typeHeroDict.get(newKeyItem,[])+[newValueItem]\n",
    "            \n",
    "print(json.dumps(typeHeroDict,indent=4,ensure_ascii=False))"
   ]
  },
  {
   "cell_type": "markdown",
   "metadata": {},
   "source": [
    "完事！~"
   ]
  },
  {
   "cell_type": "markdown",
   "metadata": {},
   "source": [
    "## 2.dict应用二——树"
   ]
  },
  {
   "cell_type": "markdown",
   "metadata": {},
   "source": [
    "一棵树（tree）是由n（n>0）个元素组成的有限集合，其中：<br>\n",
    "（1）每个元素称为结点（node）；<br>\n",
    "（2）有一个特定的结点，称为根结点或根（root）；<br>\n",
    "（3）除根结点外，其余结点被分成m（m>=0）个互不相交的有限集合，而每个子集又都是一棵树（称为原树的子树）<br>"
   ]
  },
  {
   "cell_type": "markdown",
   "metadata": {},
   "source": [
    "画图省识春风面，大概长这模样："
   ]
  },
  {
   "cell_type": "markdown",
   "metadata": {},
   "source": [
    "![MCT.jpg](https://i.loli.net/2019/09/13/6BDm5tlzRKEV4Qx.jpg)"
   ]
  },
  {
   "cell_type": "markdown",
   "metadata": {},
   "source": [
    "上图下面的代码就是树表示的一种简单形式——dict啦。"
   ]
  },
  {
   "cell_type": "markdown",
   "metadata": {},
   "source": [
    "具体树有个什么用嘞？你看："
   ]
  },
  {
   "cell_type": "markdown",
   "metadata": {},
   "source": [
    "当有一天你需要对下表进行重新排版，以达到 每个国家包含其各自地域，每个地域包含其各自代表性景点 的目的，形成树状结构，该如何做呢？（数据不具有权威性，完全不具有参考价值）"
   ]
  },
  {
   "cell_type": "markdown",
   "metadata": {},
   "source": [
    "|国|关系|景色|\n",
    "|---|---|---|\n",
    "|贵州|属于|中国|\n",
    "|黄果树瀑布|属于|贵州|\n",
    "|北京|属于|中国|\n",
    "|日内瓦|属于|瑞士|\n",
    "|光头|属于|香港|\n",
    "|故宫|属于|北京|\n",
    "|因特拉肯|属于|瑞士|\n",
    "|喜马拉雅山|属于|西藏|\n",
    "|西藏|属于|中国|\n",
    "|香港|属于|中国|\n",
    "|莱蒙湖|属于|日内瓦|\n",
    "|瑞士|属于|中国|"
   ]
  },
  {
   "cell_type": "markdown",
   "metadata": {},
   "source": [
    "不知道怎么说，还是直接上代码吧，无递归（递归建树等讲到函数时候再说~）建树"
   ]
  },
  {
   "cell_type": "code",
   "execution_count": 18,
   "metadata": {},
   "outputs": [],
   "source": [
    "def Expand(myTree,Node):\n",
    "    myTree[Node[1]]=myTree.get(Node[1],[])+[Node[0]]\n",
    "    return myTree"
   ]
  },
  {
   "cell_type": "code",
   "execution_count": 21,
   "metadata": {},
   "outputs": [],
   "source": [
    "def BuildTree(myTree,itemList,originalList):\n",
    "    for row in originalList:#底层建树\n",
    "        myTree=Expand(myTree,row)\n",
    "    valueList=[]\n",
    "    for valueItem in myTree.values():\n",
    "        valueList+=valueItem\n",
    "    for keyItem in myTree.keys():#树封顶\n",
    "        if keyItem not in valueList and keyItem != \"root\":\n",
    "            myTree[\"root\"]+=[keyItem]\n",
    "    return myTree"
   ]
  },
  {
   "cell_type": "code",
   "execution_count": 22,
   "metadata": {},
   "outputs": [
    {
     "name": "stdout",
     "output_type": "stream",
     "text": [
      "{\n",
      "    \"root\": [\n",
      "        \"中国\"\n",
      "    ],\n",
      "    \"中国\": [\n",
      "        \"贵州\",\n",
      "        \"北京\",\n",
      "        \"西藏\",\n",
      "        \"香港\",\n",
      "        \"瑞士\"\n",
      "    ],\n",
      "    \"贵州\": [\n",
      "        \"黄果树瀑布\"\n",
      "    ],\n",
      "    \"瑞士\": [\n",
      "        \"日内瓦\",\n",
      "        \"因特拉肯\"\n",
      "    ],\n",
      "    \"香港\": [\n",
      "        \"光头\"\n",
      "    ],\n",
      "    \"北京\": [\n",
      "        \"故宫\"\n",
      "    ],\n",
      "    \"西藏\": [\n",
      "        \"喜马拉雅山\"\n",
      "    ],\n",
      "    \"日内瓦\": [\n",
      "        \"莱蒙湖\"\n",
      "    ]\n",
      "}\n"
     ]
    }
   ],
   "source": [
    "import csv\n",
    "import json\n",
    "\n",
    "CDSList=[]#CDS:Country, District, Scenery\n",
    "\n",
    "#loading data into CDSList\n",
    "with open(\"CDS.csv\",\"r\",encoding=\"utf8\") as myCSV:\n",
    "    myReader=csv.reader(myCSV)\n",
    "    delHeader=True\n",
    "    for row in myReader:\n",
    "        if delHeader==True:\n",
    "            delHeader=False\n",
    "            continue\n",
    "        CDSList.append([row[0],row[2]])\n",
    "# print(CDSList)\n",
    "# building itemList\n",
    "itemList=[]\n",
    "for row in CDSList:\n",
    "    for item in row:\n",
    "        itemList.append(item)\n",
    "itemTuple=tuple(set(itemList))\n",
    "\n",
    "myTree={\"root\":[]}#initialize the tree\n",
    "\n",
    "myTree=BuildTree(myTree,itemTuple,CDSList)\n",
    "\n",
    "print(json.dumps(myTree,indent=4,ensure_ascii=False))"
   ]
  },
  {
   "cell_type": "markdown",
   "metadata": {},
   "source": [
    "emmmm，要不我稍微画的再仔细一点点？"
   ]
  },
  {
   "cell_type": "code",
   "execution_count": 34,
   "metadata": {},
   "outputs": [],
   "source": [
    "def drawTree(myTree,Node,strList,layerStr,mark):\n",
    "    if Node not in myTree.keys():\n",
    "        return strList+[layerStr+Node]\n",
    "    else:\n",
    "        strList.append(layerStr+Node)\n",
    "        layerStr+=mark\n",
    "        for childNode in myTree[Node]:\n",
    "            strList=drawTree(myTree,childNode,strList,layerStr,mark)\n",
    "        return strList"
   ]
  },
  {
   "cell_type": "code",
   "execution_count": 36,
   "metadata": {
    "scrolled": true
   },
   "outputs": [
    {
     "name": "stdout",
     "output_type": "stream",
     "text": [
      "root\n",
      "-中国\n",
      "--贵州\n",
      "---黄果树瀑布\n",
      "--北京\n",
      "---故宫\n",
      "--西藏\n",
      "---喜马拉雅山\n",
      "--香港\n",
      "---光头\n",
      "--瑞士\n",
      "---日内瓦\n",
      "----莱蒙湖\n",
      "---因特拉肯\n"
     ]
    }
   ],
   "source": [
    "drawnList=drawTree(myTree,\"root\",[],\"\",\"-\")\n",
    "for row in drawnList:\n",
    "    print(row)"
   ]
  },
  {
   "cell_type": "markdown",
   "metadata": {},
   "source": [
    "行，就这样了，不能再仔细了，再仔细可以自行看看graphviz【好累啊，并不想看】，对了上面比较重要的两个函数Expand和BuildTree，有没有想起被MCT摧残的恐惧，不过老师的代码和这篇推文原理差不多啦，BuildTree建立整个树的逻辑，Expand作为细节枝叶的补充，不过因为这篇推文涉及到的业务没那么复杂，所以Expand也就显得可有可无了，emmm，就这样啦，在中秋假期来临之际，预祝大家新年快乐！"
   ]
  },
  {
   "cell_type": "markdown",
   "metadata": {},
   "source": [
    "![六一.gif](https://i.loli.net/2019/09/14/12VzrHyAK7CMxFP.gif)"
   ]
  }
 ],
 "metadata": {
  "kernelspec": {
   "display_name": "Python 3",
   "language": "python",
   "name": "python3"
  },
  "language_info": {
   "codemirror_mode": {
    "name": "ipython",
    "version": 3
   },
   "file_extension": ".py",
   "mimetype": "text/x-python",
   "name": "python",
   "nbconvert_exporter": "python",
   "pygments_lexer": "ipython3",
   "version": "3.7.0"
  }
 },
 "nbformat": 4,
 "nbformat_minor": 2
}
